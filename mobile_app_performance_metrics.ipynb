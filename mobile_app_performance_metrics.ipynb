{
 "cells": [
  {
   "cell_type": "markdown",
   "id": "19cc8e14-ec7c-4d68-898e-6a4fa9d9cd7a",
   "metadata": {},
   "source": [
    "# Importing the required python libraries"
   ]
  },
  {
   "cell_type": "code",
   "execution_count": 8,
   "id": "254d2cdf-e5c3-4a8c-a0fb-b1707de7e9e8",
   "metadata": {},
   "outputs": [],
   "source": [
    "import numpy as np\n",
    "import pandas as pd\n",
    "import matplotlib.pyplot as plt\n",
    "import seaborn as sns\n",
    "sns.set()"
   ]
  },
  {
   "cell_type": "markdown",
   "id": "069b6722-f842-4178-871a-d77407f9fcc4",
   "metadata": {},
   "source": [
    "# Loading the dataset"
   ]
  },
  {
   "cell_type": "code",
   "execution_count": 9,
   "id": "d98782e2-eac9-4020-be6f-0a5dcdabdc10",
   "metadata": {},
   "outputs": [
    {
     "data": {
      "text/html": [
       "<div>\n",
       "<style scoped>\n",
       "    .dataframe tbody tr th:only-of-type {\n",
       "        vertical-align: middle;\n",
       "    }\n",
       "\n",
       "    .dataframe tbody tr th {\n",
       "        vertical-align: top;\n",
       "    }\n",
       "\n",
       "    .dataframe thead th {\n",
       "        text-align: right;\n",
       "    }\n",
       "</style>\n",
       "<table border=\"1\" class=\"dataframe\">\n",
       "  <thead>\n",
       "    <tr style=\"text-align: right;\">\n",
       "      <th></th>\n",
       "      <th>date</th>\n",
       "      <th>user_id</th>\n",
       "      <th>device_type</th>\n",
       "      <th>os_version</th>\n",
       "      <th>app_version</th>\n",
       "      <th>country</th>\n",
       "      <th>session_duration</th>\n",
       "      <th>screen_views</th>\n",
       "      <th>crash_occurred</th>\n",
       "      <th>network_latency_ms</th>\n",
       "      <th>battery_drain_percent</th>\n",
       "      <th>memory_usage_mb</th>\n",
       "      <th>fps</th>\n",
       "      <th>api_call_count</th>\n",
       "      <th>error_count</th>\n",
       "    </tr>\n",
       "  </thead>\n",
       "  <tbody>\n",
       "    <tr>\n",
       "      <th>0</th>\n",
       "      <td>01-04-2025</td>\n",
       "      <td>u_56527</td>\n",
       "      <td>Android</td>\n",
       "      <td>Android 12</td>\n",
       "      <td>2.5.0</td>\n",
       "      <td>India</td>\n",
       "      <td>4.28</td>\n",
       "      <td>0</td>\n",
       "      <td>True</td>\n",
       "      <td>171.97</td>\n",
       "      <td>6.58</td>\n",
       "      <td>132.29</td>\n",
       "      <td>60.00</td>\n",
       "      <td>13</td>\n",
       "      <td>2</td>\n",
       "    </tr>\n",
       "    <tr>\n",
       "      <th>1</th>\n",
       "      <td>02-04-2025</td>\n",
       "      <td>u_60307</td>\n",
       "      <td>Android</td>\n",
       "      <td>Android 12</td>\n",
       "      <td>2.5.0</td>\n",
       "      <td>Brazil</td>\n",
       "      <td>157.45</td>\n",
       "      <td>1</td>\n",
       "      <td>False</td>\n",
       "      <td>136.84</td>\n",
       "      <td>4.54</td>\n",
       "      <td>145.13</td>\n",
       "      <td>51.18</td>\n",
       "      <td>21</td>\n",
       "      <td>2</td>\n",
       "    </tr>\n",
       "    <tr>\n",
       "      <th>2</th>\n",
       "      <td>11-04-2025</td>\n",
       "      <td>u_72980</td>\n",
       "      <td>Tablet</td>\n",
       "      <td>Android 12</td>\n",
       "      <td>2.6.0</td>\n",
       "      <td>Germany</td>\n",
       "      <td>161.34</td>\n",
       "      <td>1</td>\n",
       "      <td>True</td>\n",
       "      <td>104.87</td>\n",
       "      <td>2.86</td>\n",
       "      <td>119.38</td>\n",
       "      <td>60.00</td>\n",
       "      <td>17</td>\n",
       "      <td>5</td>\n",
       "    </tr>\n",
       "    <tr>\n",
       "      <th>3</th>\n",
       "      <td>16-04-2025</td>\n",
       "      <td>u_16153</td>\n",
       "      <td>iOS</td>\n",
       "      <td>iOS 17.1</td>\n",
       "      <td>2.6.0</td>\n",
       "      <td>Germany</td>\n",
       "      <td>510.38</td>\n",
       "      <td>5</td>\n",
       "      <td>True</td>\n",
       "      <td>144.49</td>\n",
       "      <td>6.59</td>\n",
       "      <td>141.25</td>\n",
       "      <td>60.00</td>\n",
       "      <td>8</td>\n",
       "      <td>1</td>\n",
       "    </tr>\n",
       "    <tr>\n",
       "      <th>4</th>\n",
       "      <td>10-04-2025</td>\n",
       "      <td>u_28660</td>\n",
       "      <td>Tablet</td>\n",
       "      <td>iOS 16.4</td>\n",
       "      <td>2.5.0</td>\n",
       "      <td>Japan</td>\n",
       "      <td>190.59</td>\n",
       "      <td>3</td>\n",
       "      <td>False</td>\n",
       "      <td>183.64</td>\n",
       "      <td>3.60</td>\n",
       "      <td>136.52</td>\n",
       "      <td>43.21</td>\n",
       "      <td>15</td>\n",
       "      <td>1</td>\n",
       "    </tr>\n",
       "  </tbody>\n",
       "</table>\n",
       "</div>"
      ],
      "text/plain": [
       "         date  user_id device_type  os_version app_version  country  \\\n",
       "0  01-04-2025  u_56527     Android  Android 12       2.5.0    India   \n",
       "1  02-04-2025  u_60307     Android  Android 12       2.5.0   Brazil   \n",
       "2  11-04-2025  u_72980      Tablet  Android 12       2.6.0  Germany   \n",
       "3  16-04-2025  u_16153         iOS    iOS 17.1       2.6.0  Germany   \n",
       "4  10-04-2025  u_28660      Tablet    iOS 16.4       2.5.0    Japan   \n",
       "\n",
       "   session_duration  screen_views  crash_occurred  network_latency_ms  \\\n",
       "0              4.28             0            True              171.97   \n",
       "1            157.45             1           False              136.84   \n",
       "2            161.34             1            True              104.87   \n",
       "3            510.38             5            True              144.49   \n",
       "4            190.59             3           False              183.64   \n",
       "\n",
       "   battery_drain_percent  memory_usage_mb    fps  api_call_count  error_count  \n",
       "0                   6.58           132.29  60.00              13            2  \n",
       "1                   4.54           145.13  51.18              21            2  \n",
       "2                   2.86           119.38  60.00              17            5  \n",
       "3                   6.59           141.25  60.00               8            1  \n",
       "4                   3.60           136.52  43.21              15            1  "
      ]
     },
     "execution_count": 9,
     "metadata": {},
     "output_type": "execute_result"
    }
   ],
   "source": [
    "df = pd.read_csv('mobile_app_performance_metrics.csv')\n",
    "df.head()"
   ]
  },
  {
   "cell_type": "code",
   "execution_count": 10,
   "id": "8799c584-63b4-4d07-95d3-61cdf88051aa",
   "metadata": {},
   "outputs": [
    {
     "name": "stdout",
     "output_type": "stream",
     "text": [
      "<class 'pandas.core.frame.DataFrame'>\n",
      "RangeIndex: 1000 entries, 0 to 999\n",
      "Data columns (total 15 columns):\n",
      " #   Column                 Non-Null Count  Dtype  \n",
      "---  ------                 --------------  -----  \n",
      " 0   date                   1000 non-null   object \n",
      " 1   user_id                1000 non-null   object \n",
      " 2   device_type            1000 non-null   object \n",
      " 3   os_version             1000 non-null   object \n",
      " 4   app_version            1000 non-null   object \n",
      " 5   country                1000 non-null   object \n",
      " 6   session_duration       1000 non-null   float64\n",
      " 7   screen_views           1000 non-null   int64  \n",
      " 8   crash_occurred         1000 non-null   bool   \n",
      " 9   network_latency_ms     1000 non-null   float64\n",
      " 10  battery_drain_percent  1000 non-null   float64\n",
      " 11  memory_usage_mb        1000 non-null   float64\n",
      " 12  fps                    1000 non-null   float64\n",
      " 13  api_call_count         1000 non-null   int64  \n",
      " 14  error_count            1000 non-null   int64  \n",
      "dtypes: bool(1), float64(5), int64(3), object(6)\n",
      "memory usage: 110.5+ KB\n"
     ]
    }
   ],
   "source": [
    "df.info()"
   ]
  },
  {
   "cell_type": "code",
   "execution_count": 11,
   "id": "f97f2fa0-7da8-4c0c-b1cd-c454226ecee7",
   "metadata": {},
   "outputs": [],
   "source": [
    "df['crash_occurred'] = df['crash_occurred'].astype(bool)"
   ]
  },
  {
   "cell_type": "markdown",
   "id": "cd29a7da-8745-46d3-9c2b-a35869be600b",
   "metadata": {},
   "source": [
    "# Calculate crash rates by device/OS"
   ]
  },
  {
   "cell_type": "code",
   "execution_count": 12,
   "id": "2e45d44e-0199-4ef9-ab80-20e83ea6da23",
   "metadata": {},
   "outputs": [
    {
     "name": "stdout",
     "output_type": "stream",
     "text": [
      "Top 5 high crash rates:\n"
     ]
    },
    {
     "data": {
      "text/plain": [
       "device_type  os_version\n",
       "Tablet       Android 12    0.32\n",
       "Android      Android 14    0.30\n",
       "iOS          iOS 16.4      0.28\n",
       "             iOS 17.0      0.28\n",
       "Tablet       iOS 16.4      0.25\n",
       "Name: crash_occurred, dtype: float64"
      ]
     },
     "metadata": {},
     "output_type": "display_data"
    },
    {
     "name": "stdout",
     "output_type": "stream",
     "text": [
      "Top 5 low crash rates:\n"
     ]
    },
    {
     "data": {
      "text/plain": [
       "device_type  os_version\n",
       "iOS          iOS 17.0      0.28\n",
       "Tablet       iOS 16.4      0.25\n",
       "Android      Android 12    0.25\n",
       "             Android 13    0.24\n",
       "iOS          iOS 17.1      0.21\n",
       "Name: crash_occurred, dtype: float64"
      ]
     },
     "metadata": {},
     "output_type": "display_data"
    }
   ],
   "source": [
    "crash_rates = df.groupby(['device_type','os_version'])['crash_occurred'].mean().sort_values(ascending = False)\n",
    "print('Top 5 high crash rates:')\n",
    "display(crash_rates.head().round(2))\n",
    "print('Top 5 low crash rates:')\n",
    "display(crash_rates.tail().round(2))"
   ]
  },
  {
   "cell_type": "markdown",
   "id": "6ecdff89-aac9-4af6-bf57-6a115016d43f",
   "metadata": {},
   "source": [
    "# FPS Performance Analysis"
   ]
  },
  {
   "cell_type": "code",
   "execution_count": 13,
   "id": "6f17ccb2-b1d9-4d85-b909-7556d41fb456",
   "metadata": {},
   "outputs": [
    {
     "name": "stdout",
     "output_type": "stream",
     "text": [
      "FPS Performance Statistics:\n"
     ]
    },
    {
     "data": {
      "text/html": [
       "<div>\n",
       "<style scoped>\n",
       "    .dataframe tbody tr th:only-of-type {\n",
       "        vertical-align: middle;\n",
       "    }\n",
       "\n",
       "    .dataframe tbody tr th {\n",
       "        vertical-align: top;\n",
       "    }\n",
       "\n",
       "    .dataframe thead th {\n",
       "        text-align: right;\n",
       "    }\n",
       "</style>\n",
       "<table border=\"1\" class=\"dataframe\">\n",
       "  <thead>\n",
       "    <tr style=\"text-align: right;\">\n",
       "      <th></th>\n",
       "      <th></th>\n",
       "      <th>mean</th>\n",
       "      <th>median</th>\n",
       "      <th>std</th>\n",
       "    </tr>\n",
       "    <tr>\n",
       "      <th>device_type</th>\n",
       "      <th>os_version</th>\n",
       "      <th></th>\n",
       "      <th></th>\n",
       "      <th></th>\n",
       "    </tr>\n",
       "  </thead>\n",
       "  <tbody>\n",
       "    <tr>\n",
       "      <th>Android</th>\n",
       "      <th>Android 12</th>\n",
       "      <td>53.89</td>\n",
       "      <td>56.04</td>\n",
       "      <td>6.48</td>\n",
       "    </tr>\n",
       "    <tr>\n",
       "      <th>Tablet</th>\n",
       "      <th>iOS 16.4</th>\n",
       "      <td>53.50</td>\n",
       "      <td>55.55</td>\n",
       "      <td>6.93</td>\n",
       "    </tr>\n",
       "    <tr>\n",
       "      <th rowspan=\"2\" valign=\"top\">iOS</th>\n",
       "      <th>iOS 17.0</th>\n",
       "      <td>53.32</td>\n",
       "      <td>56.06</td>\n",
       "      <td>7.77</td>\n",
       "    </tr>\n",
       "    <tr>\n",
       "      <th>iOS 17.1</th>\n",
       "      <td>53.30</td>\n",
       "      <td>55.46</td>\n",
       "      <td>7.75</td>\n",
       "    </tr>\n",
       "    <tr>\n",
       "      <th>Tablet</th>\n",
       "      <th>Android 12</th>\n",
       "      <td>53.21</td>\n",
       "      <td>54.76</td>\n",
       "      <td>7.01</td>\n",
       "    </tr>\n",
       "    <tr>\n",
       "      <th>Android</th>\n",
       "      <th>Android 14</th>\n",
       "      <td>52.71</td>\n",
       "      <td>54.94</td>\n",
       "      <td>8.13</td>\n",
       "    </tr>\n",
       "    <tr>\n",
       "      <th>iOS</th>\n",
       "      <th>iOS 16.4</th>\n",
       "      <td>52.44</td>\n",
       "      <td>54.06</td>\n",
       "      <td>8.05</td>\n",
       "    </tr>\n",
       "    <tr>\n",
       "      <th>Android</th>\n",
       "      <th>Android 13</th>\n",
       "      <td>51.31</td>\n",
       "      <td>53.12</td>\n",
       "      <td>8.19</td>\n",
       "    </tr>\n",
       "  </tbody>\n",
       "</table>\n",
       "</div>"
      ],
      "text/plain": [
       "                         mean  median   std\n",
       "device_type os_version                     \n",
       "Android     Android 12  53.89   56.04  6.48\n",
       "Tablet      iOS 16.4    53.50   55.55  6.93\n",
       "iOS         iOS 17.0    53.32   56.06  7.77\n",
       "            iOS 17.1    53.30   55.46  7.75\n",
       "Tablet      Android 12  53.21   54.76  7.01\n",
       "Android     Android 14  52.71   54.94  8.13\n",
       "iOS         iOS 16.4    52.44   54.06  8.05\n",
       "Android     Android 13  51.31   53.12  8.19"
      ]
     },
     "metadata": {},
     "output_type": "display_data"
    }
   ],
   "source": [
    "fps_stats = df.groupby(['device_type','os_version'])['fps'].agg(['mean','median','std'])\n",
    "print('FPS Performance Statistics:')\n",
    "display(fps_stats.sort_values('mean',ascending = False).round(2))"
   ]
  },
  {
   "cell_type": "markdown",
   "id": "77493ccc-4d84-4a40-b453-f4e88e63696d",
   "metadata": {},
   "source": [
    "# Memory usage analysis"
   ]
  },
  {
   "cell_type": "code",
   "execution_count": 14,
   "id": "b7fb3c65-6a82-44b3-99af-fc69ce7c533b",
   "metadata": {},
   "outputs": [
    {
     "name": "stdout",
     "output_type": "stream",
     "text": [
      "Memory usage statistics (MB):\n"
     ]
    },
    {
     "data": {
      "text/html": [
       "<div>\n",
       "<style scoped>\n",
       "    .dataframe tbody tr th:only-of-type {\n",
       "        vertical-align: middle;\n",
       "    }\n",
       "\n",
       "    .dataframe tbody tr th {\n",
       "        vertical-align: top;\n",
       "    }\n",
       "\n",
       "    .dataframe thead th {\n",
       "        text-align: right;\n",
       "    }\n",
       "</style>\n",
       "<table border=\"1\" class=\"dataframe\">\n",
       "  <thead>\n",
       "    <tr style=\"text-align: right;\">\n",
       "      <th></th>\n",
       "      <th></th>\n",
       "      <th>mean</th>\n",
       "      <th>median</th>\n",
       "    </tr>\n",
       "    <tr>\n",
       "      <th>device_type</th>\n",
       "      <th>os_version</th>\n",
       "      <th></th>\n",
       "      <th></th>\n",
       "    </tr>\n",
       "  </thead>\n",
       "  <tbody>\n",
       "    <tr>\n",
       "      <th>iOS</th>\n",
       "      <th>iOS 17.1</th>\n",
       "      <td>127.61</td>\n",
       "      <td>127.67</td>\n",
       "    </tr>\n",
       "    <tr>\n",
       "      <th rowspan=\"2\" valign=\"top\">Tablet</th>\n",
       "      <th>iOS 16.4</th>\n",
       "      <td>127.61</td>\n",
       "      <td>126.76</td>\n",
       "    </tr>\n",
       "    <tr>\n",
       "      <th>Android 12</th>\n",
       "      <td>128.34</td>\n",
       "      <td>129.02</td>\n",
       "    </tr>\n",
       "    <tr>\n",
       "      <th rowspan=\"2\" valign=\"top\">Android</th>\n",
       "      <th>Android 13</th>\n",
       "      <td>128.76</td>\n",
       "      <td>128.62</td>\n",
       "    </tr>\n",
       "    <tr>\n",
       "      <th>Android 14</th>\n",
       "      <td>131.26</td>\n",
       "      <td>133.36</td>\n",
       "    </tr>\n",
       "    <tr>\n",
       "      <th rowspan=\"2\" valign=\"top\">iOS</th>\n",
       "      <th>iOS 16.4</th>\n",
       "      <td>131.91</td>\n",
       "      <td>131.73</td>\n",
       "    </tr>\n",
       "    <tr>\n",
       "      <th>iOS 17.0</th>\n",
       "      <td>132.24</td>\n",
       "      <td>133.70</td>\n",
       "    </tr>\n",
       "    <tr>\n",
       "      <th>Android</th>\n",
       "      <th>Android 12</th>\n",
       "      <td>132.51</td>\n",
       "      <td>132.68</td>\n",
       "    </tr>\n",
       "  </tbody>\n",
       "</table>\n",
       "</div>"
      ],
      "text/plain": [
       "                          mean  median\n",
       "device_type os_version                \n",
       "iOS         iOS 17.1    127.61  127.67\n",
       "Tablet      iOS 16.4    127.61  126.76\n",
       "            Android 12  128.34  129.02\n",
       "Android     Android 13  128.76  128.62\n",
       "            Android 14  131.26  133.36\n",
       "iOS         iOS 16.4    131.91  131.73\n",
       "            iOS 17.0    132.24  133.70\n",
       "Android     Android 12  132.51  132.68"
      ]
     },
     "metadata": {},
     "output_type": "display_data"
    }
   ],
   "source": [
    "memory_stats = df.groupby(['device_type','os_version'])['memory_usage_mb'].agg(['mean','median'])\n",
    "print(\"Memory usage statistics (MB):\")\n",
    "display(memory_stats.sort_values('mean').round(2))"
   ]
  },
  {
   "cell_type": "markdown",
   "id": "5b22d5e6-09d1-48f6-89ae-3da5d9d66b6c",
   "metadata": {},
   "source": [
    "# Battery drain analysis"
   ]
  },
  {
   "cell_type": "code",
   "execution_count": 15,
   "id": "c268be74-366e-4dba-a5be-1bf25c179348",
   "metadata": {},
   "outputs": [
    {
     "name": "stdout",
     "output_type": "stream",
     "text": [
      "Battery drain statistics (% per session):\n"
     ]
    },
    {
     "data": {
      "text/html": [
       "<div>\n",
       "<style scoped>\n",
       "    .dataframe tbody tr th:only-of-type {\n",
       "        vertical-align: middle;\n",
       "    }\n",
       "\n",
       "    .dataframe tbody tr th {\n",
       "        vertical-align: top;\n",
       "    }\n",
       "\n",
       "    .dataframe thead th {\n",
       "        text-align: right;\n",
       "    }\n",
       "</style>\n",
       "<table border=\"1\" class=\"dataframe\">\n",
       "  <thead>\n",
       "    <tr style=\"text-align: right;\">\n",
       "      <th></th>\n",
       "      <th></th>\n",
       "      <th>mean</th>\n",
       "      <th>count</th>\n",
       "    </tr>\n",
       "    <tr>\n",
       "      <th>device_type</th>\n",
       "      <th>os_version</th>\n",
       "      <th></th>\n",
       "      <th></th>\n",
       "    </tr>\n",
       "  </thead>\n",
       "  <tbody>\n",
       "    <tr>\n",
       "      <th>iOS</th>\n",
       "      <th>iOS 16.4</th>\n",
       "      <td>4.66</td>\n",
       "      <td>116</td>\n",
       "    </tr>\n",
       "    <tr>\n",
       "      <th>Android</th>\n",
       "      <th>Android 13</th>\n",
       "      <td>4.82</td>\n",
       "      <td>108</td>\n",
       "    </tr>\n",
       "    <tr>\n",
       "      <th rowspan=\"2\" valign=\"top\">Tablet</th>\n",
       "      <th>Android 12</th>\n",
       "      <td>4.93</td>\n",
       "      <td>186</td>\n",
       "    </tr>\n",
       "    <tr>\n",
       "      <th>iOS 16.4</th>\n",
       "      <td>5.00</td>\n",
       "      <td>169</td>\n",
       "    </tr>\n",
       "    <tr>\n",
       "      <th>Android</th>\n",
       "      <th>Android 14</th>\n",
       "      <td>5.06</td>\n",
       "      <td>92</td>\n",
       "    </tr>\n",
       "    <tr>\n",
       "      <th>iOS</th>\n",
       "      <th>iOS 17.0</th>\n",
       "      <td>5.14</td>\n",
       "      <td>109</td>\n",
       "    </tr>\n",
       "    <tr>\n",
       "      <th>Android</th>\n",
       "      <th>Android 12</th>\n",
       "      <td>5.19</td>\n",
       "      <td>120</td>\n",
       "    </tr>\n",
       "    <tr>\n",
       "      <th>iOS</th>\n",
       "      <th>iOS 17.1</th>\n",
       "      <td>5.39</td>\n",
       "      <td>100</td>\n",
       "    </tr>\n",
       "  </tbody>\n",
       "</table>\n",
       "</div>"
      ],
      "text/plain": [
       "                        mean  count\n",
       "device_type os_version             \n",
       "iOS         iOS 16.4    4.66    116\n",
       "Android     Android 13  4.82    108\n",
       "Tablet      Android 12  4.93    186\n",
       "            iOS 16.4    5.00    169\n",
       "Android     Android 14  5.06     92\n",
       "iOS         iOS 17.0    5.14    109\n",
       "Android     Android 12  5.19    120\n",
       "iOS         iOS 17.1    5.39    100"
      ]
     },
     "metadata": {},
     "output_type": "display_data"
    }
   ],
   "source": [
    "battery_stats = df.groupby(['device_type','os_version'])['battery_drain_percent'].agg(['mean','count'])\n",
    "print(\"Battery drain statistics (% per session):\")\n",
    "display(battery_stats.sort_values('mean').round(2))"
   ]
  },
  {
   "cell_type": "markdown",
   "id": "2e21cab4-2414-45ff-841f-8fa5a32af969",
   "metadata": {},
   "source": [
    "# Network Latency Analysis"
   ]
  },
  {
   "cell_type": "code",
   "execution_count": 16,
   "id": "71a51578-79d0-44e7-9a28-90ddedc95e66",
   "metadata": {},
   "outputs": [
    {
     "name": "stdout",
     "output_type": "stream",
     "text": [
      "Network latency statistics(ms):\n"
     ]
    },
    {
     "data": {
      "text/html": [
       "<div>\n",
       "<style scoped>\n",
       "    .dataframe tbody tr th:only-of-type {\n",
       "        vertical-align: middle;\n",
       "    }\n",
       "\n",
       "    .dataframe tbody tr th {\n",
       "        vertical-align: top;\n",
       "    }\n",
       "\n",
       "    .dataframe thead th {\n",
       "        text-align: right;\n",
       "    }\n",
       "</style>\n",
       "<table border=\"1\" class=\"dataframe\">\n",
       "  <thead>\n",
       "    <tr style=\"text-align: right;\">\n",
       "      <th></th>\n",
       "      <th></th>\n",
       "      <th>mean</th>\n",
       "      <th>count</th>\n",
       "    </tr>\n",
       "    <tr>\n",
       "      <th>device_type</th>\n",
       "      <th>os_version</th>\n",
       "      <th></th>\n",
       "      <th></th>\n",
       "    </tr>\n",
       "  </thead>\n",
       "  <tbody>\n",
       "    <tr>\n",
       "      <th rowspan=\"2\" valign=\"top\">iOS</th>\n",
       "      <th>iOS 16.4</th>\n",
       "      <td>137.35</td>\n",
       "      <td>116</td>\n",
       "    </tr>\n",
       "    <tr>\n",
       "      <th>iOS 17.1</th>\n",
       "      <td>140.41</td>\n",
       "      <td>100</td>\n",
       "    </tr>\n",
       "    <tr>\n",
       "      <th>Android</th>\n",
       "      <th>Android 13</th>\n",
       "      <td>141.37</td>\n",
       "      <td>108</td>\n",
       "    </tr>\n",
       "    <tr>\n",
       "      <th>iOS</th>\n",
       "      <th>iOS 17.0</th>\n",
       "      <td>141.45</td>\n",
       "      <td>109</td>\n",
       "    </tr>\n",
       "    <tr>\n",
       "      <th rowspan=\"2\" valign=\"top\">Tablet</th>\n",
       "      <th>iOS 16.4</th>\n",
       "      <td>145.14</td>\n",
       "      <td>169</td>\n",
       "    </tr>\n",
       "    <tr>\n",
       "      <th>Android 12</th>\n",
       "      <td>152.28</td>\n",
       "      <td>186</td>\n",
       "    </tr>\n",
       "    <tr>\n",
       "      <th rowspan=\"2\" valign=\"top\">Android</th>\n",
       "      <th>Android 14</th>\n",
       "      <td>155.37</td>\n",
       "      <td>92</td>\n",
       "    </tr>\n",
       "    <tr>\n",
       "      <th>Android 12</th>\n",
       "      <td>155.89</td>\n",
       "      <td>120</td>\n",
       "    </tr>\n",
       "  </tbody>\n",
       "</table>\n",
       "</div>"
      ],
      "text/plain": [
       "                          mean  count\n",
       "device_type os_version               \n",
       "iOS         iOS 16.4    137.35    116\n",
       "            iOS 17.1    140.41    100\n",
       "Android     Android 13  141.37    108\n",
       "iOS         iOS 17.0    141.45    109\n",
       "Tablet      iOS 16.4    145.14    169\n",
       "            Android 12  152.28    186\n",
       "Android     Android 14  155.37     92\n",
       "            Android 12  155.89    120"
      ]
     },
     "metadata": {},
     "output_type": "display_data"
    }
   ],
   "source": [
    "latency_stats = df.groupby(['device_type','os_version'])['network_latency_ms'].agg(['mean','count'])\n",
    "print('Network latency statistics(ms):')\n",
    "display(latency_stats.sort_values('mean').round(2))"
   ]
  },
  {
   "cell_type": "markdown",
   "id": "4fa4e39d-3255-42bb-88f9-e64f39602817",
   "metadata": {},
   "source": [
    "# Comprehensive Performance Score"
   ]
  },
  {
   "cell_type": "code",
   "execution_count": 17,
   "id": "ec8ca5c5-01ab-4cf2-9ef5-5901501972d3",
   "metadata": {},
   "outputs": [
    {
     "name": "stdout",
     "output_type": "stream",
     "text": [
      "Overall Performance Scores:\n"
     ]
    },
    {
     "name": "stderr",
     "output_type": "stream",
     "text": [
      "C:\\Users\\mathr\\AppData\\Local\\Temp\\ipykernel_19032\\816680951.py:9: DeprecationWarning: DataFrameGroupBy.apply operated on the grouping columns. This behavior is deprecated, and in a future version of pandas the grouping columns will be excluded from the operation. Either pass `include_groups=False` to exclude the groupings or explicitly select the grouping columns after groupby to silence this warning.\n",
      "  performance_scores = df.groupby(['device_type', 'os_version']).apply(calculate_score)\n"
     ]
    },
    {
     "data": {
      "text/plain": [
       "device_type  os_version\n",
       "iOS          iOS 16.4      5.253526\n",
       "Android      Android 13    5.242434\n",
       "Tablet       iOS 16.4      5.205020\n",
       "             Android 12    5.156111\n",
       "iOS          iOS 17.1      5.102415\n",
       "Android      Android 12    5.084021\n",
       "             Android 14    5.074063\n",
       "iOS          iOS 17.0      5.071046\n",
       "dtype: float64"
      ]
     },
     "metadata": {},
     "output_type": "display_data"
    }
   ],
   "source": [
    "# Creating a composite score combining multiple metrics\n",
    "def calculate_score(group):\n",
    "    score = (group['fps'].mean() / 60 +                     \n",
    "             (1 - group['crash_occurred'].mean()) +         \n",
    "             (1 / (group['memory_usage_mb'].mean() / 200)) + \n",
    "             (1 / (group['battery_drain_percent'].mean() / 10)))\n",
    "    return score\n",
    "\n",
    "performance_scores = df.groupby(['device_type', 'os_version']).apply(calculate_score)\n",
    "performance_scores = performance_scores.sort_values(ascending=False)\n",
    "print(\"Overall Performance Scores:\")\n",
    "display(performance_scores)"
   ]
  },
  {
   "cell_type": "markdown",
   "id": "9cce53bd-6ef5-4f45-8cba-c0792b7c6d94",
   "metadata": {},
   "source": [
    "#  Visualization - Crash Rates"
   ]
  },
  {
   "cell_type": "code",
   "execution_count": 18,
   "id": "b2499437-73f5-4fd1-bb0e-a28b2127db04",
   "metadata": {},
   "outputs": [
    {
     "data": {
      "text/plain": [
       "<Figure size 1200x600 with 0 Axes>"
      ]
     },
     "metadata": {},
     "output_type": "display_data"
    },
    {
     "data": {
      "image/png": "[encoded data removed]",
      "text/plain": [
       "<Figure size 640x480 with 1 Axes>"
      ]
     },
     "metadata": {},
     "output_type": "display_data"
    }
   ],
   "source": [
    "plt.figure(figsize=(12, 6))\n",
    "crash_rates.unstack().plot(kind='bar', stacked=True)\n",
    "plt.title('Crash Rates by Device Type and OS Version')\n",
    "plt.ylabel('Crash Rate')\n",
    "plt.xlabel('Device Type')\n",
    "plt.legend(title='OS Version', bbox_to_anchor=(1.05, 1))\n",
    "plt.tight_layout()\n",
    "plt.show()"
   ]
  },
  {
   "cell_type": "markdown",
   "id": "479ee086-7e7a-4463-9c4c-581dd572d676",
   "metadata": {},
   "source": [
    "# Visualization - Performance Heatmap\n",
    "# Pivot the performance scores for heatmap"
   ]
  },
  {
   "cell_type": "code",
   "execution_count": 19,
   "id": "1855bd5c-90a2-4ca5-814c-d9cb576220ac",
   "metadata": {},
   "outputs": [
    {
     "data": {
      "image/png": "[encoded data removed]",
      "text/plain": [
       "<Figure size 1200x600 with 2 Axes>"
      ]
     },
     "metadata": {},
     "output_type": "display_data"
    }
   ],
   "source": [
    "heatmap_data = performance_scores.reset_index()\n",
    "heatmap_data = heatmap_data.pivot(index='device_type', columns='os_version', values=0)\n",
    "\n",
    "plt.figure(figsize=(12, 6))\n",
    "sns.heatmap(heatmap_data, annot=True, cmap='YlGnBu', fmt='.2f')\n",
    "plt.title('Overall Performance Scores by Device/OS')\n",
    "plt.tight_layout()\n",
    "plt.show()"
   ]
  },
  {
   "cell_type": "code",
   "execution_count": 21,
   "id": "9cb7baaa-baad-4782-8c13-b215725afe6a",
   "metadata": {},
   "outputs": [],
   "source": [
    "df.to_csv('mobile_app_metrics_cleaned_dataset.csv', index=False)"
   ]
  },
  {
   "cell_type": "code",
   "execution_count": null,
   "id": "0e44e419-50b1-48a5-9399-d48a7d505ea8",
   "metadata": {},
   "outputs": [],
   "source": []
  },
  {
   "cell_type": "code",
   "execution_count": null,
   "id": "6baedc38-c708-4dae-8274-cc31a39a9da6",
   "metadata": {},
   "outputs": [],
   "source": []
  }
 ],
 "metadata": {
  "kernelspec": {
   "display_name": "Python 3 (ipykernel)",
   "language": "python",
   "name": "python3"
  },
  "language_info": {
   "codemirror_mode": {
    "name": "ipython",
    "version": 3
   },
   "file_extension": ".py",
   "mimetype": "text/x-python",
   "name": "python",
   "nbconvert_exporter": "python",
   "pygments_lexer": "ipython3",
   "version": "3.12.9"
  }
 },
 "nbformat": 4,
 "nbformat_minor": 5
}
